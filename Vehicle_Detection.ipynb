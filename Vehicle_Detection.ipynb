{
 "cells": [
  {
   "cell_type": "markdown",
   "metadata": {},
   "source": [
    "# Self-Driving Car Engineer\n",
    "\n",
    "## Lucas Gago\n",
    "\n",
    "## Machine Learning\n",
    "\n",
    "## Project: Vehicle Detection"
   ]
  },
  {
   "cell_type": "code",
   "execution_count": 45,
   "metadata": {
    "collapsed": true
   },
   "outputs": [],
   "source": [
    "import numpy as np\n",
    "import cv2\n",
    "import glob\n",
    "import os\n",
    "import pickle\n",
    "\n",
    "import matplotlib\n",
    "import matplotlib.pyplot as plt\n",
    "import matplotlib.image as mpimg\n",
    "\n",
    "\n",
    "from scipy.ndimage.measurements import label\n",
    "import matplotlib.image as mpimg\n",
    "import matplotlib.pyplot as plt\n",
    "import numpy as np\n",
    "import cv2\n",
    "import glob\n",
    "import glob\n",
    "from time import time\n",
    "from skimage.feature import hog\n",
    "from sklearn.svm import LinearSVC\n",
    "from sklearn.model_selection import train_test_split\n",
    "from sklearn.preprocessing import StandardScaler\n",
    "\n",
    "from IPython.core.display import Image, display\n",
    "\n",
    "%matplotlib inline"
   ]
  },
  {
   "cell_type": "markdown",
   "metadata": {},
   "source": [
    "## Camera Calibration\n",
    "\n",
    "---"
   ]
  },
  {
   "cell_type": "code",
   "execution_count": 2,
   "metadata": {
    "collapsed": true
   },
   "outputs": [],
   "source": [
    "def calibrate_camera(cal_images, nx, ny):\n",
    "    imge=[]\n",
    "    orig=[]\n",
    "    objpoints=[]  # 3D points\n",
    "    imgpoints=[]  # 2D points\n",
    "\n",
    "    objp=np.zeros((nx*ny,3), np.float32)\n",
    "    objp[:,:2]=np.mgrid[0:nx,0:ny].T.reshape(-1, 2)\n",
    "\n",
    "    fname=cal_images[0]\n",
    "    for fname in cal_images:\n",
    "        img=cv2.imread(fname)\n",
    "        gray=cv2.cvtColor(img, cv2.COLOR_BGR2GRAY)\n",
    "\n",
    "        ret, corners=cv2.findChessboardCorners(gray, (nx, ny), None)\n",
    "        if ret == True:\n",
    "            objpoints.append(objp)\n",
    "            imgpoints.append(corners)\n",
    "            imge.append(cv2.drawChessboardCorners(img, (9,6), corners, ret))\n",
    "            \n",
    "    ret, mtx, dist, rvecs, tvecs=cv2.calibrateCamera(objpoints, imgpoints, gray.shape[::-1],None,None)\n",
    "    \n",
    "    return mtx, dist,imge"
   ]
  },
  {
   "cell_type": "code",
   "execution_count": 3,
   "metadata": {
    "collapsed": true
   },
   "outputs": [],
   "source": [
    "def camera_setup():\n",
    "    cal_images=glob.glob('camera_cal/calibration*.jpg')\n",
    "    nx, ny=9, 6\n",
    "    cam_mtx, cam_dist,imge= calibrate_camera(cal_images, nx, ny)\n",
    "    return cam_mtx, cam_dist,imge"
   ]
  },
  {
   "cell_type": "code",
   "execution_count": 5,
   "metadata": {
    "collapsed": false
   },
   "outputs": [],
   "source": [
    "cam_mtx, cam_dist,imge= camera_setup()"
   ]
  },
  {
   "cell_type": "markdown",
   "metadata": {},
   "source": [
    "## Load the dataset\n",
    "---"
   ]
  },
  {
   "cell_type": "code",
   "execution_count": 7,
   "metadata": {
    "collapsed": false
   },
   "outputs": [],
   "source": [
    "cars_data = []\n",
    "for filename in glob.glob('vehicles/*.png'):\n",
    "    img=cv2.imread(filename)\n",
    "    img=cv2.cvtColor(img, cv2.COLOR_BGR2RGB)\n",
    "    cars_data.append(img)\n",
    "    \n",
    "non_cars_data = []\n",
    "for filename in glob.glob('non_vehicles/*.png'):\n",
    "    img=cv2.imread(filename)\n",
    "    img=cv2.cvtColor(img, cv2.COLOR_BGR2RGB)\n",
    "    non_cars_data.append(img)"
   ]
  },
  {
   "cell_type": "markdown",
   "metadata": {},
   "source": [
    "### Train the model\n",
    "---"
   ]
  },
  {
   "cell_type": "code",
   "execution_count": 15,
   "metadata": {
    "collapsed": true
   },
   "outputs": [],
   "source": [
    "def get_hog_features(img, orient, pix_per_cell, cell_per_block, vis=False, feature_vec=True):\n",
    "    if vis == True:\n",
    "        features, hog_image = hog(img, orientations=orient, pixels_per_cell=(pix_per_cell, pix_per_cell),\n",
    "                                  cells_per_block=(cell_per_block, cell_per_block), transform_sqrt=False, \n",
    "                                  visualise=True, feature_vector=False)\n",
    "        return features, hog_image\n",
    "    else:      \n",
    "        features = hog(img, orientations=orient, pixels_per_cell=(pix_per_cell, pix_per_cell),\n",
    "                       cells_per_block=(cell_per_block, cell_per_block), transform_sqrt=False, \n",
    "                       visualise=False, feature_vector=feature_vec)\n",
    "        return features"
   ]
  },
  {
   "cell_type": "code",
   "execution_count": 17,
   "metadata": {
    "collapsed": false,
    "scrolled": true
   },
   "outputs": [
    {
     "data": {
      "text/plain": [
       "<matplotlib.text.Text at 0x186d85cb208>"
      ]
     },
     "execution_count": 17,
     "metadata": {},
     "output_type": "execute_result"
    },
    {
     "data": {
      "image/png": "[encoded data removed]",
      "text/plain": [
       "<matplotlib.figure.Figure at 0x186d844be48>"
      ]
     },
     "metadata": {},
     "output_type": "display_data"
    }
   ],
   "source": [
    "gray = cv2.cvtColor(cars_data[0], cv2.COLOR_RGB2GRAY)\n",
    "\n",
    "orient = 9\n",
    "pix_per_cell = 8\n",
    "cell_per_block = 2\n",
    "\n",
    "features, hog_image = get_hog_features(gray, orient, \n",
    "                        pix_per_cell, cell_per_block, \n",
    "                        vis=True, feature_vec=False)\n",
    "\n",
    "fig = plt.figure()\n",
    "plt.subplot(121)\n",
    "plt.imshow(gray, cmap='gray')\n",
    "plt.title('Example Car Image')\n",
    "plt.subplot(122)\n",
    "plt.imshow(hog_image, cmap='gray')\n",
    "plt.title('HOG Visualization')"
   ]
  },
  {
   "cell_type": "code",
   "execution_count": 18,
   "metadata": {
    "collapsed": true
   },
   "outputs": [],
   "source": [
    "def extract_features(imgs, cspace='RGB', orient=9, \n",
    "                        pix_per_cell=8, cell_per_block=2, hog_channel=0):\n",
    "    # Create a list to append feature vectors to\n",
    "    features = []\n",
    "    # Iterate through the list of images\n",
    "    for image in imgs:\n",
    "        if cspace != 'RGB':\n",
    "            if cspace == 'HSV':\n",
    "                feature_image = cv2.cvtColor(image, cv2.COLOR_RGB2HSV)\n",
    "            elif cspace == 'LUV':\n",
    "                feature_image = cv2.cvtColor(image, cv2.COLOR_RGB2LUV)\n",
    "            elif cspace == 'HLS':\n",
    "                feature_image = cv2.cvtColor(image, cv2.COLOR_RGB2HLS)\n",
    "            elif cspace == 'YUV':\n",
    "                feature_image = cv2.cvtColor(image, cv2.COLOR_RGB2YUV)\n",
    "            elif cspace == 'YCrCb':\n",
    "                feature_image = cv2.cvtColor(image, cv2.COLOR_RGB2YCrCb)\n",
    "        else: feature_image = np.copy(image)      \n",
    "\n",
    "        # Call get_hog_features() with vis=False, feature_vec=True\n",
    "        if hog_channel == 'ALL':\n",
    "            hog_features = []\n",
    "            for channel in range(feature_image.shape[2]):\n",
    "                hog_features.append(get_hog_features(feature_image[:,:,channel], \n",
    "                                    orient, pix_per_cell, cell_per_block, \n",
    "                                    vis=False, feature_vec=True))\n",
    "            hog_features = np.ravel(hog_features)        \n",
    "        else:\n",
    "            hog_features = get_hog_features(feature_image[:,:,hog_channel], orient, \n",
    "                        pix_per_cell, cell_per_block, vis=False, feature_vec=True)\n",
    "        # Append the new feature vector to the features list\n",
    "        features.append(hog_features)\n",
    "    # Return list of feature vectors\n",
    "    return features"
   ]
  },
  {
   "cell_type": "code",
   "execution_count": 22,
   "metadata": {
    "collapsed": false
   },
   "outputs": [
    {
     "name": "stdout",
     "output_type": "stream",
     "text": [
      "4.57 Seconds to extract HOG features...\n",
      "Using: 7 orientations 8 pixels per cell and 2 cells per block\n",
      "Feature vector length: 4116\n",
      "0.15 Seconds to train SVC...\n",
      "Test Accuracy of SVC =  1.0\n",
      "My SVC predicts:  [ 1.  1.  1.  0.  0.  0.  0.  0.  0.  1.]\n",
      "For these 10 labels:  [ 1.  1.  1.  0.  0.  0.  0.  0.  0.  1.]\n",
      "0.0015 Seconds to predict 10 labels with SVC\n"
     ]
    }
   ],
   "source": [
    "colorspace = 'YCrCb' # Can be RGB, HSV, LUV, HLS, YUV, YCrCb\n",
    "orient = 7\n",
    "pix_per_cell = 8\n",
    "cell_per_block = 2\n",
    "hog_channel = \"ALL\" # Can be 0, 1, 2, or \"ALL\"\n",
    "\n",
    "sample_size = 2400\n",
    "cars= cars_data[0:sample_size]\n",
    "non_cars = non_cars_data[0:sample_size]\n",
    "\n",
    "t=time.time()\n",
    "car_features = extract_features(cars, cspace=colorspace, orient=orient, \n",
    "                        pix_per_cell=pix_per_cell, cell_per_block=cell_per_block, \n",
    "                        hog_channel=hog_channel)\n",
    "notcar_features = extract_features(non_cars, cspace=colorspace, orient=orient, \n",
    "                        pix_per_cell=pix_per_cell, cell_per_block=cell_per_block, \n",
    "                        hog_channel=hog_channel)\n",
    "t2 = time.time()\n",
    "print(round(t2-t, 2), 'Seconds to extract HOG features...')\n",
    "# Create an array stack of feature vectors\n",
    "X = np.vstack((car_features, notcar_features)).astype(np.float64)                        \n",
    "# Fit a per-column scaler\n",
    "X_scaler = StandardScaler().fit(X)\n",
    "# Apply the scaler to X\n",
    "scaled_X = X_scaler.transform(X)\n",
    "\n",
    "# Define the labels vector\n",
    "y = np.hstack((np.ones(len(car_features)), np.zeros(len(notcar_features))))\n",
    "\n",
    "\n",
    "# Split up data into randomized training and test sets\n",
    "rand_state = np.random.randint(0, 100)\n",
    "X_train, X_test, y_train, y_test = train_test_split(\n",
    "    scaled_X, y, test_size=0.2, random_state=rand_state)\n",
    "\n",
    "print('Using:',orient,'orientations',pix_per_cell,\n",
    "    'pixels per cell and', cell_per_block,'cells per block')\n",
    "print('Feature vector length:', len(X_train[0]))\n",
    "# Use a linear SVC \n",
    "svc = LinearSVC()\n",
    "# Check the training time for the SVC\n",
    "t=time.time()\n",
    "svc.fit(X_train, y_train)\n",
    "t2 = time.time()\n",
    "print(round(t2-t, 2), 'Seconds to train SVC...')\n",
    "# Check the score of the SVC\n",
    "print('Test Accuracy of SVC = ', round(svc.score(X_test, y_test), 4))\n",
    "# Check the prediction time for a single sample\n",
    "t=time.time()\n",
    "n_predict = 10\n",
    "print('My SVC predicts: ', svc.predict(X_test[0:n_predict]))\n",
    "print('For these',n_predict, 'labels: ', y_test[0:n_predict])\n",
    "t2 = time.time()\n",
    "print(round(t2-t, 5), 'Seconds to predict', n_predict,'labels with SVC')"
   ]
  },
  {
   "cell_type": "code",
   "execution_count": 23,
   "metadata": {
    "collapsed": false
   },
   "outputs": [
    {
     "name": "stderr",
     "output_type": "stream",
     "text": [
      "Using TensorFlow backend.\n"
     ]
    }
   ],
   "source": [
    "\n",
    "\n",
    "import numpy\n",
    "import pandas\n",
    "from keras.models import Sequential\n",
    "from keras.layers import Dense\n",
    "from keras.wrappers.scikit_learn import KerasClassifier\n",
    "from sklearn.model_selection import cross_val_score\n",
    "from sklearn.preprocessing import LabelEncoder\n",
    "from sklearn.model_selection import StratifiedKFold\n",
    "from sklearn.preprocessing import StandardScaler\n",
    "from sklearn.pipeline import Pipeline"
   ]
  },
  {
   "cell_type": "code",
   "execution_count": 24,
   "metadata": {
    "collapsed": true
   },
   "outputs": [],
   "source": [
    "# fix random seed for reproducibility\n",
    "seed = 7\n",
    "numpy.random.seed(seed)"
   ]
  },
  {
   "cell_type": "code",
   "execution_count": 38,
   "metadata": {
    "collapsed": true
   },
   "outputs": [],
   "source": [
    "# baseline model\n",
    "def create_baseline():\n",
    "    # create model\n",
    "    model = Sequential()\n",
    "    model.add(Dense(60, input_dim=4116, init='normal', activation='relu'))\n",
    "    model.add(Dense(1, init='normal', activation='sigmoid'))\n",
    "    # Compile model\n",
    "    model.compile(loss='binary_crossentropy', optimizer='adam', metrics=['accuracy'])\n",
    "    return model"
   ]
  },
  {
   "cell_type": "code",
   "execution_count": null,
   "metadata": {
    "collapsed": false
   },
   "outputs": [],
   "source": [
    "# evaluate model with standardized dataset\n",
    "estimator = KerasClassifier(build_fn=create_baseline, nb_epoch=100, batch_size=5, verbose=0)\n",
    "kfold = StratifiedKFold(n_splits=1, shuffle=True, random_state=seed)\n",
    "results = cross_val_score(estimator, X_train, y_train, cv=kfold)\n",
    "print(\"Results: %.2f%% (%.2f%%)\" % (results.mean()*100, results.std()*100))"
   ]
  },
  {
   "cell_type": "code",
   "execution_count": null,
   "metadata": {
    "collapsed": true
   },
   "outputs": [],
   "source": []
  },
  {
   "cell_type": "code",
   "execution_count": null,
   "metadata": {
    "collapsed": true
   },
   "outputs": [],
   "source": []
  },
  {
   "cell_type": "code",
   "execution_count": 43,
   "metadata": {
    "collapsed": true
   },
   "outputs": [],
   "source": [
    "def train_classifier(clf, X_train, y_train):\n",
    "    ''' Fits a classifier to the training data. '''\n",
    "    \n",
    "    # Start the clock, train the classifier, then stop the clock\n",
    "    start = time()\n",
    "    clf.fit(X_train, y_train)\n",
    "    end = time()\n",
    "    \n",
    "    # Print the results\n",
    "    print (\"Trained model in {:.4f} seconds\".format(end - start))\n",
    "\n",
    "def predict_labels_accuracy(clf, features, target):\n",
    "    ''' Makes predictions using a fit classifier based on the accuracy score. '''\n",
    "    \n",
    "    y_pred = clf.predict(features)\n",
    "    \n",
    "    # Print and return results\n",
    "    return accuracy_score(target, y_pred)   \n",
    "\n",
    "def train_predict(clf, X_train, y_train, X_test, y_test):\n",
    "    ''' Train and predict using a classifer based on F1 score. '''\n",
    "    \n",
    "    # Indicate the classifier and the training set size\n",
    "    print (\"Training a {} using a training set size of {}. . .\".format(clf.__class__.__name__, len(X_train)))\n",
    "    \n",
    "    # Train the classifier\n",
    "    train_classifier(clf, X_train, y_train)\n",
    "    \n",
    "    # Print the results of prediction for both training and testing\n",
    "    print (\"Accuracy score for training set: {:.4f}.\".format(predict_labels_accuracy(clf, X_train, y_train)))\n",
    "    print (\"Accuracy score for test set: {:.4f}.\".format(predict_labels_accuracy(clf, X_test, y_test)))"
   ]
  },
  {
   "cell_type": "code",
   "execution_count": 49,
   "metadata": {
    "collapsed": false
   },
   "outputs": [
    {
     "name": "stdout",
     "output_type": "stream",
     "text": [
      "\n",
      "DecisionTreeClassifier: \n",
      "\n",
      "Training a DecisionTreeClassifier using a training set size of 100. . .\n",
      "Trained model in 0.0940 seconds\n",
      "Accuracy score for training set: 1.0000.\n",
      "Accuracy score for test set: 0.8050.\n",
      "--------------------------------\n",
      "Training a DecisionTreeClassifier using a training set size of 250. . .\n",
      "Trained model in 0.3585 seconds\n",
      "Accuracy score for training set: 1.0000.\n",
      "Accuracy score for test set: 0.8500.\n",
      "--------------------------------\n",
      "Training a DecisionTreeClassifier using a training set size of 500. . .\n",
      "Trained model in 0.9270 seconds\n",
      "Accuracy score for training set: 1.0000.\n",
      "Accuracy score for test set: 0.8300.\n",
      "--------------------------------\n",
      "\n",
      "GaussianNB: \n",
      "\n",
      "Training a GaussianNB using a training set size of 100. . .\n",
      "Trained model in 0.0095 seconds\n",
      "Accuracy score for training set: 1.0000.\n",
      "Accuracy score for test set: 0.9250.\n",
      "--------------------------------\n",
      "Training a GaussianNB using a training set size of 250. . .\n",
      "Trained model in 0.0470 seconds\n",
      "Accuracy score for training set: 1.0000.\n",
      "Accuracy score for test set: 0.9650.\n",
      "--------------------------------\n",
      "Training a GaussianNB using a training set size of 500. . .\n",
      "Trained model in 0.0890 seconds\n",
      "Accuracy score for training set: 0.9940.\n",
      "Accuracy score for test set: 0.9800.\n",
      "--------------------------------\n",
      "\n",
      "SVC: \n",
      "\n",
      "Training a SVC using a training set size of 100. . .\n",
      "Trained model in 0.0810 seconds\n",
      "Accuracy score for training set: 1.0000.\n",
      "Accuracy score for test set: 0.9750.\n",
      "--------------------------------\n",
      "Training a SVC using a training set size of 250. . .\n",
      "Trained model in 0.5350 seconds\n",
      "Accuracy score for training set: 1.0000.\n",
      "Accuracy score for test set: 0.9900.\n",
      "--------------------------------\n",
      "Training a SVC using a training set size of 500. . .\n",
      "Trained model in 1.5235 seconds\n",
      "Accuracy score for training set: 1.0000.\n",
      "Accuracy score for test set: 0.9900.\n",
      "--------------------------------\n"
     ]
    }
   ],
   "source": [
    "# Import  three supervised learning models from sklearn\n",
    "from sklearn.tree import DecisionTreeClassifier\n",
    "from sklearn.naive_bayes import GaussianNB\n",
    "from sklearn.svm import SVC\n",
    "from sklearn.metrics import accuracy_score\n",
    "\n",
    "\n",
    "\n",
    "# Initialize the three models\n",
    "clf_A = DecisionTreeClassifier(random_state=1)\n",
    "clf_B = GaussianNB()\n",
    "clf_C = SVC(random_state=2)\n",
    "\n",
    "\n",
    "# Execute the 'train_predict' function for each classifier and each training set size\n",
    "\n",
    "# loop thru models, then thru train sizes\n",
    "for clf in [clf_A, clf_B, clf_C]:\n",
    "    print (\"\\n{}: \\n\".format(clf.__class__.__name__))\n",
    "    for n in [100,250,500]:\n",
    "        train_predict(clf, X_train[:n], y_train[:n], X_test, y_test)\n",
    "        print ('-'*32)"
   ]
  },
  {
   "cell_type": "code",
   "execution_count": 52,
   "metadata": {
    "collapsed": false,
    "scrolled": false
   },
   "outputs": [
    {
     "name": "stdout",
     "output_type": "stream",
     "text": [
      "\n",
      "KNeighborsClassifier: \n",
      "\n",
      "Training a KNeighborsClassifier using a training set size of 100. . .\n",
      "Trained model in 0.0185 seconds\n",
      "Accuracy score for training set: 0.9300.\n",
      "Accuracy score for test set: 0.8200.\n",
      "--------------------------------\n",
      "Training a KNeighborsClassifier using a training set size of 250. . .\n",
      "Trained model in 0.0300 seconds\n",
      "Accuracy score for training set: 0.9440.\n",
      "Accuracy score for test set: 0.9050.\n",
      "--------------------------------\n",
      "Training a KNeighborsClassifier using a training set size of 500. . .\n",
      "Trained model in 0.0715 seconds\n",
      "Accuracy score for training set: 0.9700.\n",
      "Accuracy score for test set: 0.9700.\n",
      "--------------------------------\n",
      "\n",
      "SVC: \n",
      "\n",
      "Training a SVC using a training set size of 100. . .\n",
      "Trained model in 0.0650 seconds\n",
      "Accuracy score for training set: 1.0000.\n",
      "Accuracy score for test set: 0.9900.\n",
      "--------------------------------\n",
      "Training a SVC using a training set size of 250. . .\n",
      "Trained model in 0.3580 seconds\n",
      "Accuracy score for training set: 1.0000.\n",
      "Accuracy score for test set: 1.0000.\n",
      "--------------------------------\n",
      "Training a SVC using a training set size of 500. . .\n",
      "Trained model in 0.7260 seconds\n",
      "Accuracy score for training set: 1.0000.\n",
      "Accuracy score for test set: 1.0000.\n",
      "--------------------------------\n",
      "\n",
      "SVC: \n",
      "\n",
      "Training a SVC using a training set size of 100. . .\n",
      "Trained model in 0.1310 seconds\n",
      "Accuracy score for training set: 1.0000.\n",
      "Accuracy score for test set: 0.4350.\n",
      "--------------------------------\n",
      "Training a SVC using a training set size of 250. . .\n",
      "Trained model in 0.5205 seconds\n",
      "Accuracy score for training set: 1.0000.\n",
      "Accuracy score for test set: 0.5750.\n",
      "--------------------------------\n",
      "Training a SVC using a training set size of 500. . .\n",
      "Trained model in 2.0055 seconds\n",
      "Accuracy score for training set: 1.0000.\n",
      "Accuracy score for test set: 0.4350.\n",
      "--------------------------------\n",
      "\n",
      "GaussianProcessClassifier: \n",
      "\n",
      "Training a GaussianProcessClassifier using a training set size of 100. . .\n",
      "Trained model in 0.4010 seconds\n",
      "Accuracy score for training set: 1.0000.\n",
      "Accuracy score for test set: 0.4350.\n",
      "--------------------------------\n",
      "Training a GaussianProcessClassifier using a training set size of 250. . .\n",
      "Trained model in 2.2690 seconds\n",
      "Accuracy score for training set: 1.0000.\n",
      "Accuracy score for test set: 0.4350.\n",
      "--------------------------------\n",
      "Training a GaussianProcessClassifier using a training set size of 500. . .\n",
      "Trained model in 7.4395 seconds\n",
      "Accuracy score for training set: 1.0000.\n",
      "Accuracy score for test set: 0.4350.\n",
      "--------------------------------\n",
      "\n",
      "DecisionTreeClassifier: \n",
      "\n",
      "Training a DecisionTreeClassifier using a training set size of 100. . .\n",
      "Trained model in 0.0655 seconds\n",
      "Accuracy score for training set: 1.0000.\n",
      "Accuracy score for test set: 0.8200.\n",
      "--------------------------------\n",
      "Training a DecisionTreeClassifier using a training set size of 250. . .\n",
      "Trained model in 0.3415 seconds\n",
      "Accuracy score for training set: 1.0000.\n",
      "Accuracy score for test set: 0.8300.\n",
      "--------------------------------\n",
      "Training a DecisionTreeClassifier using a training set size of 500. . .\n",
      "Trained model in 0.9460 seconds\n",
      "Accuracy score for training set: 1.0000.\n",
      "Accuracy score for test set: 0.8400.\n",
      "--------------------------------\n",
      "\n",
      "RandomForestClassifier: \n",
      "\n",
      "Training a RandomForestClassifier using a training set size of 100. . .\n",
      "Trained model in 0.0240 seconds\n",
      "Accuracy score for training set: 1.0000.\n",
      "Accuracy score for test set: 0.8100.\n",
      "--------------------------------\n",
      "Training a RandomForestClassifier using a training set size of 250. . .\n",
      "Trained model in 0.0225 seconds\n",
      "Accuracy score for training set: 0.9600.\n",
      "Accuracy score for test set: 0.8600.\n",
      "--------------------------------\n",
      "Training a RandomForestClassifier using a training set size of 500. . .\n",
      "Trained model in 0.0210 seconds\n",
      "Accuracy score for training set: 0.9680.\n",
      "Accuracy score for test set: 0.8600.\n",
      "--------------------------------\n",
      "\n",
      "MLPClassifier: \n",
      "\n",
      "Training a MLPClassifier using a training set size of 100. . .\n"
     ]
    },
    {
     "name": "stderr",
     "output_type": "stream",
     "text": [
      "C:\\Users\\gagol\\Miniconda3\\envs\\carnd-term1\\lib\\site-packages\\sklearn\\neural_network\\multilayer_perceptron.py:563: ConvergenceWarning: Stochastic Optimizer: Maximum iterations reached and the optimization hasn't converged yet.\n",
      "  % (), ConvergenceWarning)\n"
     ]
    },
    {
     "name": "stdout",
     "output_type": "stream",
     "text": [
      "Trained model in 7.7995 seconds\n",
      "Accuracy score for training set: 1.0000.\n",
      "Accuracy score for test set: 0.9950.\n",
      "--------------------------------\n",
      "Training a MLPClassifier using a training set size of 250. . .\n",
      "Trained model in 8.2810 seconds\n",
      "Accuracy score for training set: 1.0000.\n",
      "Accuracy score for test set: 0.9950.\n",
      "--------------------------------\n",
      "Training a MLPClassifier using a training set size of 500. . .\n",
      "Trained model in 10.5720 seconds\n",
      "Accuracy score for training set: 1.0000.\n",
      "Accuracy score for test set: 1.0000.\n",
      "--------------------------------\n",
      "\n",
      "AdaBoostClassifier: \n",
      "\n",
      "Training a AdaBoostClassifier using a training set size of 100. . .\n",
      "Trained model in 2.0350 seconds\n",
      "Accuracy score for training set: 1.0000.\n",
      "Accuracy score for test set: 0.9450.\n",
      "--------------------------------\n",
      "Training a AdaBoostClassifier using a training set size of 250. . .\n",
      "Trained model in 5.0846 seconds\n",
      "Accuracy score for training set: 1.0000.\n",
      "Accuracy score for test set: 0.9800.\n",
      "--------------------------------\n",
      "Training a AdaBoostClassifier using a training set size of 500. . .\n",
      "Trained model in 11.1315 seconds\n",
      "Accuracy score for training set: 1.0000.\n",
      "Accuracy score for test set: 0.9850.\n",
      "--------------------------------\n",
      "\n",
      "GaussianNB: \n",
      "\n",
      "Training a GaussianNB using a training set size of 100. . .\n",
      "Trained model in 0.0085 seconds\n",
      "Accuracy score for training set: 1.0000.\n",
      "Accuracy score for test set: 0.9250.\n",
      "--------------------------------\n",
      "Training a GaussianNB using a training set size of 250. . .\n",
      "Trained model in 0.0220 seconds\n",
      "Accuracy score for training set: 1.0000.\n",
      "Accuracy score for test set: 0.9650.\n",
      "--------------------------------\n",
      "Training a GaussianNB using a training set size of 500. . .\n",
      "Trained model in 0.0465 seconds\n",
      "Accuracy score for training set: 0.9940.\n",
      "Accuracy score for test set: 0.9800.\n",
      "--------------------------------\n",
      "\n",
      "QuadraticDiscriminantAnalysis: \n",
      "\n",
      "Training a QuadraticDiscriminantAnalysis using a training set size of 100. . .\n"
     ]
    },
    {
     "name": "stderr",
     "output_type": "stream",
     "text": [
      "C:\\Users\\gagol\\Miniconda3\\envs\\carnd-term1\\lib\\site-packages\\sklearn\\discriminant_analysis.py:695: UserWarning: Variables are collinear\n",
      "  warnings.warn(\"Variables are collinear\")\n"
     ]
    },
    {
     "name": "stdout",
     "output_type": "stream",
     "text": [
      "Trained model in 0.0785 seconds\n",
      "Accuracy score for training set: 1.0000.\n",
      "Accuracy score for test set: 0.5100.\n",
      "--------------------------------\n",
      "Training a QuadraticDiscriminantAnalysis using a training set size of 250. . .\n",
      "Trained model in 0.0705 seconds\n",
      "Accuracy score for training set: 1.0000.\n",
      "Accuracy score for test set: 0.5750.\n",
      "--------------------------------\n",
      "Training a QuadraticDiscriminantAnalysis using a training set size of 500. . .\n",
      "Trained model in 0.1975 seconds\n",
      "Accuracy score for training set: 1.0000.\n",
      "Accuracy score for test set: 0.6000.\n",
      "--------------------------------\n"
     ]
    }
   ],
   "source": [
    "from sklearn.preprocessing import StandardScaler\n",
    "from sklearn.datasets import make_moons, make_circles, make_classification\n",
    "from sklearn.neural_network import MLPClassifier\n",
    "from sklearn.neighbors import KNeighborsClassifier\n",
    "from sklearn.svm import SVC\n",
    "from sklearn.gaussian_process import GaussianProcessClassifier\n",
    "from sklearn.gaussian_process.kernels import RBF\n",
    "from sklearn.tree import DecisionTreeClassifier\n",
    "from sklearn.ensemble import RandomForestClassifier, AdaBoostClassifier\n",
    "from sklearn.naive_bayes import GaussianNB\n",
    "from sklearn.discriminant_analysis import QuadraticDiscriminantAnalysis\n",
    "\n",
    "\n",
    "\n",
    "names = [\"Nearest Neighbors\", \"Linear SVM\", \"RBF SVM\", \"Gaussian Process\",\n",
    "         \"Decision Tree\", \"Random Forest\", \"Neural Net\", \"AdaBoost\",\n",
    "         \"Naive Bayes\", \"QDA\"]\n",
    "\n",
    "classifiers = [\n",
    "    KNeighborsClassifier(3),\n",
    "    SVC(kernel=\"linear\", C=0.025),\n",
    "    SVC(gamma=2, C=1),\n",
    "    GaussianProcessClassifier(1.0 * RBF(1.0), warm_start=True),\n",
    "    DecisionTreeClassifier(max_depth=5),\n",
    "    RandomForestClassifier(max_depth=5, n_estimators=10, max_features=1),\n",
    "    MLPClassifier(alpha=1),\n",
    "    AdaBoostClassifier(),\n",
    "    GaussianNB(),\n",
    "    QuadraticDiscriminantAnalysis()]\n",
    "\n",
    "for clf in classifiers:\n",
    "    print (\"\\n{}: \\n\".format(clf.__class__.__name__))\n",
    "    for n in [100,250,500]:\n",
    "        train_predict(clf, X_train[:n], y_train[:n], X_test, y_test)\n",
    "        print ('-'*32)"
   ]
  },
  {
   "cell_type": "code",
   "execution_count": 56,
   "metadata": {
    "collapsed": false
   },
   "outputs": [
    {
     "name": "stdout",
     "output_type": "stream",
     "text": [
      "Tuned model has a training accuracy score of 0.9962.\n",
      "Tuned model has a testing accuracy score of 0.9900.\n",
      "The best parameters are {'gamma': 5e-06, 'C': 1, 'kernel': 'linear'}\n"
     ]
    }
   ],
   "source": [
    "# Optimize the SVM parameters by using grid search cross validation\n",
    "\n",
    "# Import 'GridSearchCV' and 'make_scorer'\n",
    "from sklearn.grid_search import GridSearchCV\n",
    "from sklearn.metrics import make_scorer\n",
    "\n",
    "# Create the parameters list you wish to tune\n",
    "\n",
    "#parameters = {'kernel':('linear', 'rbf','sigmoid'), 'C':[1,2,3,4,5,6,7,8,9,10,11,12,13,14,15], \n",
    "#              'gamma':[.000001,.000005,.00005,.0005,.001,.005,.01,.02,.04,.05,.1,.3,.5]}\n",
    "parameters = {'kernel':('linear', 'rbf','sigmoid'), 'C':[1,5,10,15], \n",
    "              'gamma':[.000005,.001,.04,.5]}\n",
    "\n",
    "# Initialize the classifier\n",
    "clf = SVC(random_state=3)\n",
    "\n",
    "# Perform grid search on the classifier using the default scoring method (accuracy)\n",
    "grid_obj = GridSearchCV(clf, parameters)\n",
    "\n",
    "# Fit the grid search object to the training data and find the optimal parameters\n",
    "grid_obj.fit(X_train[:100],y_train[:100])\n",
    "\n",
    "# Get the estimator\n",
    "clf = grid_obj.best_estimator_\n",
    "\n",
    "# Report the final F1 score for training and testing after parameter tuning\n",
    "print (\"Tuned model has a training accuracy score of {:.4f}.\".format(predict_labels_accuracy(clf, X_train, y_train)))\n",
    "print (\"Tuned model has a testing accuracy score of {:.4f}.\".format(predict_labels_accuracy(clf, X_test, y_test)))\n",
    "\n",
    "print(\"The best parameters are %s\"\n",
    "      % (grid_obj.best_params_))\n",
    "\n",
    "# Output predictions for further analysis\n",
    "np.savetxt(\"eval-SVM.csv\", clf.predict(X_test), delimiter=\",\")"
   ]
  },
  {
   "cell_type": "code",
   "execution_count": null,
   "metadata": {
    "collapsed": true
   },
   "outputs": [],
   "source": []
  }
 ],
 "metadata": {
  "kernelspec": {
   "display_name": "Python 3",
   "language": "python",
   "name": "python3"
  },
  "language_info": {
   "codemirror_mode": {
    "name": "ipython",
    "version": 3
   },
   "file_extension": ".py",
   "mimetype": "text/x-python",
   "name": "python",
   "nbconvert_exporter": "python",
   "pygments_lexer": "ipython3",
   "version": "3.5.2"
  },
  "widgets": {
   "state": {},
   "version": "1.1.2"
  }
 },
 "nbformat": 4,
 "nbformat_minor": 2
}
